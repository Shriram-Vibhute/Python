{
 "cells": [
  {
   "cell_type": "markdown",
   "id": "2d9e8884",
   "metadata": {},
   "source": [
    "### `What is an Iteration`\n",
    "Iteration is a process of accessing each element of an iterable."
   ]
  },
  {
   "cell_type": "code",
   "execution_count": 19,
   "id": "26fadf7e",
   "metadata": {},
   "outputs": [
    {
     "name": "stdout",
     "output_type": "stream",
     "text": [
      "1\n",
      "2\n",
      "3\n"
     ]
    }
   ],
   "source": [
    "num = [1,2,3]\n",
    "\n",
    "for i in num:\n",
    "    print(i)"
   ]
  },
  {
   "cell_type": "code",
   "execution_count": 3,
   "id": "0acefdc6",
   "metadata": {},
   "outputs": [
    {
     "name": "stdout",
     "output_type": "stream",
     "text": [
      "1\n",
      "2\n",
      "3\n"
     ]
    }
   ],
   "source": [
    "for i in {1,2,3}:\n",
    "    print(i)"
   ]
  },
  {
   "cell_type": "markdown",
   "id": "c7ea3a1a",
   "metadata": {},
   "source": [
    "### `What is an Iterator`\n",
    "\n",
    "An Iterator is an object that allows the programmer to traverse through a sequence of data `without having to store the entire data in memory.`"
   ]
  },
  {
   "cell_type": "code",
   "execution_count": 4,
   "id": "ff765a6c",
   "metadata": {},
   "outputs": [
    {
     "name": "stdout",
     "output_type": "stream",
     "text": [
      "1330.875\n",
      "0.75\n"
     ]
    }
   ],
   "source": [
    "# Example\n",
    "L = [x for x in range(1,10000)] # List stores the entire data\n",
    "    \n",
    "import sys\n",
    "print(sys.getsizeof(L)/64)\n",
    "x = range(1,10000000000) # range function does not stores the entire data at once\n",
    "print(sys.getsizeof(x)/64)"
   ]
  },
  {
   "cell_type": "markdown",
   "id": "99fff65f",
   "metadata": {},
   "source": [
    "### `What is an Iterable`\n",
    "An Iterable is an object from which you can retrieve each element using an iterator.<br>\n",
    "It generates an Iterator when passed to the `iter()` method."
   ]
  },
  {
   "cell_type": "code",
   "execution_count": 5,
   "id": "77650fa6",
   "metadata": {},
   "outputs": [
    {
     "data": {
      "text/plain": [
       "list_iterator"
      ]
     },
     "execution_count": 5,
     "metadata": {},
     "output_type": "execute_result"
    }
   ],
   "source": [
    "L = [1,2,3]\n",
    "type(L)\n",
    "\n",
    "type(iter(L)) # List Iterator "
   ]
  },
  {
   "cell_type": "markdown",
   "id": "f9482d80",
   "metadata": {},
   "source": [
    "### Points to remember\n",
    "\n",
    "- Every `Iterator` is also an `Iterable` - Because iterators also have `__iter__` and `__next__` methods\n",
    "- Not all `Iterables` are `Iterators` - Because iterables have `__iter__` method but not `__next__` method\n",
    "\n",
    "### Trick\n",
    "- Every Iterable has an `iter` function\n",
    "- Every Iterator has both `iter` function as well as a `next` functionPoint to remember"
   ]
  },
  {
   "cell_type": "code",
   "execution_count": 8,
   "id": "237c5bba",
   "metadata": {},
   "outputs": [
    {
     "data": {
      "text/plain": [
       "18"
      ]
     },
     "execution_count": 8,
     "metadata": {},
     "output_type": "execute_result"
    }
   ],
   "source": [
    "d = {\n",
    "    1: \"Hello\",\n",
    "    2: \"World\"\n",
    "}\n",
    "\n",
    "dir(d).index('__iter__')"
   ]
  },
  {
   "cell_type": "markdown",
   "id": "5f02c4b7",
   "metadata": {},
   "source": [
    "### Understanding how for loop works"
   ]
  },
  {
   "cell_type": "code",
   "execution_count": 13,
   "id": "bfb4f98d",
   "metadata": {},
   "outputs": [
    {
     "name": "stdout",
     "output_type": "stream",
     "text": [
      "1\n",
      "2\n",
      "3\n",
      "You reach the end\n"
     ]
    }
   ],
   "source": [
    "num = [1,2,3]\n",
    "\n",
    "# fetch the iterator\n",
    "iter_num = iter(num)\n",
    "\n",
    "while True:\n",
    "    try:\n",
    "        print(next(iter_num)) # next will return the value at current position and moves forward\n",
    "    except StopIteration:\n",
    "        print(\"You reach the end\")\n",
    "        break    "
   ]
  },
  {
   "cell_type": "markdown",
   "id": "81a3e616",
   "metadata": {},
   "source": [
    "### A confusing point\n",
    "<i>`An iterator also has the __iter__ method, but it returns itself instead of returning an iterator of the iterator.`</i>"
   ]
  },
  {
   "cell_type": "code",
   "execution_count": 14,
   "id": "269d3c83",
   "metadata": {},
   "outputs": [
    {
     "name": "stdout",
     "output_type": "stream",
     "text": [
      "2666175062768 Address of iterator 1\n",
      "2666175062768 Address of iterator 2\n"
     ]
    }
   ],
   "source": [
    "num = [1,2,3]\n",
    "iter_obj = iter(num)\n",
    "\n",
    "print(id(iter_obj),'Address of iterator 1')\n",
    "\n",
    "iter_obj2 = iter(iter_obj)\n",
    "print(id(iter_obj2),'Address of iterator 2')"
   ]
  },
  {
   "cell_type": "markdown",
   "id": "051af6bc",
   "metadata": {},
   "source": [
    "### Let's create our own range() function"
   ]
  },
  {
   "cell_type": "code",
   "execution_count": 42,
   "id": "635aafe2",
   "metadata": {},
   "outputs": [],
   "source": [
    "class range:\n",
    "    def __init__(self, start: int, end: int):\n",
    "        self.start = start\n",
    "        self.end = end\n",
    "    \n",
    "    def __iter__(self):\n",
    "        return iterator(self) # Why I'm passing self, because iterator need to know the values of start and end\n",
    "\n",
    "class iterator:\n",
    "    def __init__(self, obj: range):\n",
    "        self.iterable_obj = obj\n",
    "\n",
    "    def __iter__(self):\n",
    "        return self\n",
    "\n",
    "    def __next__(self):\n",
    "        if self.iterable_obj.start >= self.iterable_obj.end:\n",
    "            raise StopIteration\n",
    "        else:\n",
    "            current_num = self.iterable_obj.start\n",
    "            self.iterable_obj.start += 1\n",
    "            return current_num"
   ]
  },
  {
   "cell_type": "code",
   "execution_count": 43,
   "metadata": {},
   "outputs": [],
   "source": [
    "obj = iterable(1, 5)"
   ]
  },
  {
   "cell_type": "code",
   "execution_count": 44,
   "id": "23ab8552",
   "metadata": {},
   "outputs": [
    {
     "name": "stdout",
     "output_type": "stream",
     "text": [
      "<__main__.iterable object at 0x0000026CC46725A0>\n"
     ]
    }
   ],
   "source": [
    "a = obj # iterable object\n",
    "print(a)"
   ]
  },
  {
   "cell_type": "code",
   "execution_count": 45,
   "metadata": {},
   "outputs": [
    {
     "name": "stdout",
     "output_type": "stream",
     "text": [
      "<__main__.iterator object at 0x0000026CC461B440>\n"
     ]
    }
   ],
   "source": [
    "b = iter(obj) # iterator object\n",
    "print(b)"
   ]
  },
  {
   "cell_type": "code",
   "execution_count": 46,
   "id": "1577ca06",
   "metadata": {},
   "outputs": [
    {
     "name": "stdout",
     "output_type": "stream",
     "text": [
      "<__main__.iterator object at 0x0000026CC4672EA0>\n"
     ]
    }
   ],
   "source": [
    "c = iter(iter(obj))\n",
    "print(c)"
   ]
  },
  {
   "cell_type": "code",
   "execution_count": 47,
   "id": "f89d5b39",
   "metadata": {},
   "outputs": [
    {
     "name": "stdout",
     "output_type": "stream",
     "text": [
      "1\n",
      "2\n",
      "3\n",
      "4\n",
      "You reach the end\n"
     ]
    }
   ],
   "source": [
    "while True:\n",
    "    try:\n",
    "        print(next(b)) # next will return the value at current position and moves forward\n",
    "    except StopIteration:\n",
    "        print(\"You reach the end\")\n",
    "        break    "
   ]
  }
 ],
 "metadata": {
  "kernelspec": {
   "display_name": "Python 3",
   "language": "python",
   "name": "python3"
  },
  "language_info": {
   "codemirror_mode": {
    "name": "ipython",
    "version": 3
   },
   "file_extension": ".py",
   "mimetype": "text/x-python",
   "name": "python",
   "nbconvert_exporter": "python",
   "pygments_lexer": "ipython3",
   "version": "3.12.2"
  }
 },
 "nbformat": 4,
 "nbformat_minor": 5
}
