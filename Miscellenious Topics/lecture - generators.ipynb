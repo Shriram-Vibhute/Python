{
 "cells": [
  {
   "cell_type": "markdown",
   "id": "905a4e72",
   "metadata": {},
   "source": [
    "### What is a Generator\n",
    "Python generators are a simple way of creating iterators. "
   ]
  },
  {
   "cell_type": "code",
   "execution_count": 1,
   "id": "43d4ce12",
   "metadata": {},
   "outputs": [],
   "source": [
    "def generator(a, b):\n",
    "    s = a + b\n",
    "    yield s\n",
    "    \n",
    "    s = a - b\n",
    "    yield s\n",
    "\n",
    "    s = a * b\n",
    "    yield s\n",
    "\n",
    "    s = a / b\n",
    "    yield s"
   ]
  },
  {
   "cell_type": "code",
   "execution_count": 2,
   "id": "bd8ba991",
   "metadata": {},
   "outputs": [
    {
     "name": "stdout",
     "output_type": "stream",
     "text": [
      "9\n",
      "-1\n",
      "20\n",
      "0.8\n"
     ]
    }
   ],
   "source": [
    "# 1st way of calling generators\n",
    "g = generator(4, 5)\n",
    "\n",
    "print(next(g))\n",
    "print(next(g))\n",
    "print(next(g))\n",
    "print(next(g))\n",
    "\n",
    "# print(next(g)) - Throws a StopIteration error"
   ]
  },
  {
   "cell_type": "code",
   "execution_count": 3,
   "id": "78d93234",
   "metadata": {},
   "outputs": [
    {
     "name": "stdout",
     "output_type": "stream",
     "text": [
      "9\n",
      "-1\n",
      "20\n",
      "0.8\n"
     ]
    }
   ],
   "source": [
    "# 2nd way of calling generators\n",
    "for g in generator(4, 5):\n",
    "    print(g)\n",
    "\n",
    "# for loop implicitely call next method"
   ]
  },
  {
   "cell_type": "markdown",
   "id": "875edb12",
   "metadata": {},
   "source": [
    "### Range Function using Generator"
   ]
  },
  {
   "cell_type": "code",
   "execution_count": 6,
   "id": "14721877",
   "metadata": {},
   "outputs": [
    {
     "name": "stdout",
     "output_type": "stream",
     "text": [
      "15\n",
      "16\n",
      "17\n",
      "18\n",
      "19\n"
     ]
    }
   ],
   "source": [
    "def mera_range(start,end):\n",
    "\n",
    "    while start < end:\n",
    "        yield start\n",
    "        start += 1\n",
    "\n",
    "for i in mera_range(15,20):\n",
    "    print(i)"
   ]
  },
  {
   "cell_type": "markdown",
   "id": "406188e0",
   "metadata": {},
   "source": [
    "### `Generator Expression`"
   ]
  },
  {
   "cell_type": "code",
   "execution_count": 8,
   "id": "722796db",
   "metadata": {},
   "outputs": [
    {
     "name": "stdout",
     "output_type": "stream",
     "text": [
      "<generator object <genexpr> at 0x000001B0F88F5B10>\n",
      "1\n",
      "4\n",
      "9\n",
      "16\n",
      "25\n",
      "36\n",
      "49\n",
      "64\n",
      "81\n"
     ]
    }
   ],
   "source": [
    "# list comprehension\n",
    "L = [i**2 for i in range(1,101)]\n",
    "\n",
    "gen = (i**2 for i in range(1,10))\n",
    "print(gen)\n",
    "for i in gen:\n",
    "    print(i)"
   ]
  },
  {
   "cell_type": "markdown",
   "id": "0c7d14fc",
   "metadata": {},
   "source": [
    "### Practical Example - Loading images one by one"
   ]
  },
  {
   "cell_type": "code",
   "execution_count": 9,
   "id": "b03eb0a7",
   "metadata": {},
   "outputs": [],
   "source": [
    "import os\n",
    "import cv2\n",
    "\n",
    "def image_data_reader(folder_path):\n",
    "\n",
    "    for file in os.listdir(folder_path):\n",
    "        f_array = cv2.imread(os.path.join(folder_path,file))\n",
    "        yield f_array\n",
    "    "
   ]
  },
  {
   "cell_type": "code",
   "execution_count": 50,
   "id": "c0ccdc67",
   "metadata": {},
   "outputs": [
    {
     "data": {
      "text/plain": [
       "array([[[ 38,  38,  38],\n",
       "        [ 26,  26,  26],\n",
       "        [ 23,  23,  23],\n",
       "        ...,\n",
       "        [198, 198, 198],\n",
       "        [196, 196, 196],\n",
       "        [167, 167, 167]],\n",
       "\n",
       "       [[ 32,  32,  32],\n",
       "        [ 25,  25,  25],\n",
       "        [ 26,  26,  26],\n",
       "        ...,\n",
       "        [194, 194, 194],\n",
       "        [204, 204, 204],\n",
       "        [181, 181, 181]],\n",
       "\n",
       "       [[ 44,  44,  44],\n",
       "        [ 42,  42,  42],\n",
       "        [ 38,  38,  38],\n",
       "        ...,\n",
       "        [156, 156, 156],\n",
       "        [214, 214, 214],\n",
       "        [199, 199, 199]],\n",
       "\n",
       "       ...,\n",
       "\n",
       "       [[150, 150, 150],\n",
       "        [165, 165, 165],\n",
       "        [186, 186, 186],\n",
       "        ...,\n",
       "        [229, 229, 229],\n",
       "        [226, 226, 226],\n",
       "        [239, 239, 239]],\n",
       "\n",
       "       [[145, 145, 145],\n",
       "        [156, 156, 156],\n",
       "        [180, 180, 180],\n",
       "        ...,\n",
       "        [227, 227, 227],\n",
       "        [228, 228, 228],\n",
       "        [221, 221, 221]],\n",
       "\n",
       "       [[144, 144, 144],\n",
       "        [150, 150, 150],\n",
       "        [172, 172, 172],\n",
       "        ...,\n",
       "        [211, 211, 211],\n",
       "        [189, 189, 189],\n",
       "        [217, 217, 217]]], dtype=uint8)"
      ]
     },
     "execution_count": 50,
     "metadata": {},
     "output_type": "execute_result"
    }
   ],
   "source": [
    "gen = image_data_reader('C:/Users/91842/emotion-detector/train/Sad')\n",
    "\n",
    "next(gen)\n",
    "next(gen)\n",
    "\n",
    "next(gen)\n",
    "next(gen)"
   ]
  },
  {
   "cell_type": "markdown",
   "id": "8cb79570",
   "metadata": {},
   "source": [
    "### Benefits of using a Generator"
   ]
  },
  {
   "cell_type": "markdown",
   "id": "3329b0d1",
   "metadata": {},
   "source": [
    "#### 1. Ease of Implementation"
   ]
  },
  {
   "cell_type": "code",
   "execution_count": null,
   "id": "a1cae9cd",
   "metadata": {},
   "outputs": [],
   "source": [
    "class mera_range:\n",
    "    \n",
    "    def __init__(self,start,end):\n",
    "        self.start = start\n",
    "        self.end = end\n",
    "        \n",
    "    def __iter__(self):\n",
    "        return mera_iterator(self)\n",
    "\n",
    "# iterator\n",
    "class mera_iterator:\n",
    "    \n",
    "    def __init__(self,iterable_obj):\n",
    "        self.iterable = iterable_obj\n",
    "    \n",
    "    def __iter__(self):\n",
    "        return self\n",
    "    \n",
    "    def __next__(self):\n",
    "        \n",
    "        if self.iterable.start >= self.iterable.end:\n",
    "            raise StopIteration\n",
    "        \n",
    "        current = self.iterable.start\n",
    "        self.iterable.start+=1\n",
    "        return current"
   ]
  },
  {
   "cell_type": "code",
   "execution_count": null,
   "id": "999b118f",
   "metadata": {},
   "outputs": [],
   "source": [
    "def mera_range(start,end):\n",
    "    \n",
    "    for i in range(start,end):\n",
    "        yield i"
   ]
  },
  {
   "cell_type": "markdown",
   "id": "1cee95cb",
   "metadata": {},
   "source": [
    "#### 2. Memory Efficient"
   ]
  },
  {
   "cell_type": "code",
   "execution_count": 51,
   "id": "d9886270",
   "metadata": {},
   "outputs": [
    {
     "name": "stdout",
     "output_type": "stream",
     "text": [
      "Size of L in memory 824456\n",
      "Size of gen in memory 112\n"
     ]
    }
   ],
   "source": [
    "L = [x for x in range(100000)]\n",
    "gen = (x for x in range(100000))\n",
    "\n",
    "import sys\n",
    "\n",
    "print('Size of L in memory',sys.getsizeof(L))\n",
    "print('Size of gen in memory',sys.getsizeof(gen))"
   ]
  },
  {
   "cell_type": "markdown",
   "id": "5d7c5229",
   "metadata": {},
   "source": [
    "#### 3. Representing Infinite Streams"
   ]
  },
  {
   "cell_type": "code",
   "execution_count": 18,
   "id": "a144da66",
   "metadata": {},
   "outputs": [],
   "source": [
    "def all_even():\n",
    "    n = 0\n",
    "    while True:\n",
    "        yield n\n",
    "        n += 2"
   ]
  },
  {
   "cell_type": "code",
   "execution_count": 20,
   "id": "04b11520",
   "metadata": {},
   "outputs": [
    {
     "data": {
      "text/plain": [
       "2"
      ]
     },
     "execution_count": 20,
     "metadata": {},
     "output_type": "execute_result"
    }
   ],
   "source": [
    "even_num_gen = all_even()\n",
    "next(even_num_gen)\n",
    "next(even_num_gen)"
   ]
  },
  {
   "cell_type": "markdown",
   "id": "e80fec2f",
   "metadata": {},
   "source": [
    "#### 4. Chaining Generators"
   ]
  },
  {
   "cell_type": "code",
   "execution_count": 21,
   "id": "fc9972b1",
   "metadata": {},
   "outputs": [
    {
     "name": "stdout",
     "output_type": "stream",
     "text": [
      "4895\n"
     ]
    }
   ],
   "source": [
    "def fibonacci_numbers(nums):\n",
    "    x, y = 0, 1\n",
    "    for _ in range(nums):\n",
    "        x, y = y, x+y\n",
    "        yield x\n",
    "\n",
    "def square(nums):\n",
    "    # nums is an iterable/iterator of function of fibonacci_numbers\n",
    "    for num in nums:\n",
    "        yield num**2\n",
    "\n",
    "print(sum(square(fibonacci_numbers(10))))"
   ]
  }
 ],
 "metadata": {
  "kernelspec": {
   "display_name": "Python 3",
   "language": "python",
   "name": "python3"
  },
  "language_info": {
   "codemirror_mode": {
    "name": "ipython",
    "version": 3
   },
   "file_extension": ".py",
   "mimetype": "text/x-python",
   "name": "python",
   "nbconvert_exporter": "python",
   "pygments_lexer": "ipython3",
   "version": "3.12.2"
  }
 },
 "nbformat": 4,
 "nbformat_minor": 5
}
